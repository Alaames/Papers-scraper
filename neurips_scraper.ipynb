{
 "cells": [
  {
   "cell_type": "code",
   "execution_count": 1,
   "metadata": {},
   "outputs": [],
   "source": [
    "import pandas as pd \n",
    "from bs4 import BeautifulSoup\n",
    "import numpy as np \n",
    "import requests\n",
    "import matplotlib.pyplot as plt\n",
    "import os\n",
    "from concurrent.futures import ThreadPoolExecutor"
   ]
  },
  {
   "cell_type": "markdown",
   "metadata": {},
   "source": [
    "## Test avec un papier"
   ]
  },
  {
   "cell_type": "code",
   "execution_count": 2,
   "metadata": {},
   "outputs": [
    {
     "data": {
      "text/plain": [
       "'https://papers.nips.cc/paper_files/paper/2023/file/0001ca33ba34ce0351e4612b744b3936-Paper-Conference.pdf'"
      ]
     },
     "execution_count": 2,
     "metadata": {},
     "output_type": "execute_result"
    }
   ],
   "source": [
    "initial_url = \"https://papers.nips.cc\"\n",
    "url_complement = \"/paper_files/paper/\"\n",
    "conference_url = \"https://papers.nips.cc/paper_files/paper/2023\"\n",
    "content = requests.get(conference_url).text\n",
    "\n",
    "scraper = BeautifulSoup(content, parser=\"lxml\")\n",
    "paper = scraper.find_all(\"li\", class_=\"conference\")[0]\n",
    "paper_tile = paper.a.text\n",
    "paper_authors = paper.i.text\n",
    "paper_link = paper.a.get(\"href\")\n",
    "\n",
    "paper_link = initial_url + paper_link\n",
    "\n",
    "content = requests.get(paper_link).text\n",
    "scraper = BeautifulSoup(content, parser=\"lxml\")\n",
    "\n",
    "abstract = scraper.find_all(\"p\")[3].text\n",
    "pdf_link = scraper.find(\"a\", class_=\"btn btn-primary btn-spacer\").get(\"href\")\n",
    "\n",
    "initial_url + pdf_link"
   ]
  },
  {
   "cell_type": "markdown",
   "metadata": {},
   "source": [
    "## Test avec toutes les années"
   ]
  },
  {
   "cell_type": "code",
   "execution_count": null,
   "metadata": {},
   "outputs": [],
   "source": [
    "initial_url = \"https://papers.nips.cc\"\n",
    "url_complement = \"/paper_files/paper/\"\n",
    "years = list(range(1987, 2024))\n",
    "folder_to_save = \"./NeurIPS\"\n",
    "\n",
    "if not os.path.isdir(folder_to_save):\n",
    "    os.makedirs(folder_to_save)\n",
    "\n",
    "def scrape_year(year):\n",
    "    conference_url = initial_url + url_complement + str(year)\n",
    "    try:\n",
    "        content = requests.get(conference_url).text\n",
    "    except Exception as e:\n",
    "        print(f\"Error fetching URL for year {year}: {e}\")\n",
    "        return\n",
    "\n",
    "    scraper = BeautifulSoup(content, \"lxml\")\n",
    "    papers = scraper.find_all(\"li\", class_=\"conference\")\n",
    "    if len(papers) == 0:\n",
    "        papers = scraper.find_all(\"li\", class_=\"none\")\n",
    "\n",
    "    year_data = {\n",
    "        \"Year\": [],\n",
    "        \"Title\": [],\n",
    "        \"Authors\": [],\n",
    "        \"Number of authors\": [],\n",
    "        \"Abstract\": [],\n",
    "        \"Citations\": [],\n",
    "        \"Paper file\": []\n",
    "    }\n",
    "\n",
    "    for i, paper in enumerate(papers):\n",
    "        paper_tile = paper.a.text\n",
    "        paper_authors = paper.i.text\n",
    "        paper_link = paper.a.get(\"href\")\n",
    "        paper_link = initial_url + paper_link\n",
    "\n",
    "        try:\n",
    "            paper_content = requests.get(paper_link).text\n",
    "        except Exception as e:\n",
    "            print(f\"Error fetching paper link {paper_link}: {e}\")\n",
    "            continue\n",
    "\n",
    "        paper_scraper = BeautifulSoup(paper_content, \"lxml\")\n",
    "        abstract = paper_scraper.find_all(\"p\")[3].text\n",
    "\n",
    "        if paper_scraper.find(\"a\", class_=\"btn btn-primary btn-spacer\") is None:\n",
    "            pdf_link = initial_url + paper_scraper.find_all(\"a\", class_=\"btn btn-light btn-spacer\")[-1].get(\"href\")\n",
    "        else:\n",
    "            pdf_link = initial_url + paper_scraper.find(\"a\", class_=\"btn btn-primary btn-spacer\").get(\"href\")\n",
    "\n",
    "        year_data[\"Year\"].append(year)\n",
    "        year_data[\"Title\"].append(paper_tile)\n",
    "        year_data[\"Authors\"].append(paper_authors)\n",
    "        year_data[\"Number of authors\"].append(len(paper_authors.split(\",\")))\n",
    "        year_data[\"Abstract\"].append(abstract)\n",
    "        year_data[\"Citations\"].append(0)  \n",
    "        year_data[\"Paper file\"].append(pdf_link)\n",
    "\n",
    "        # print(f\"Year: {year}, paper {i+1}/{len(papers)}\")\n",
    "\n",
    "    if year_data[\"Year\"]:\n",
    "        neurips_year_df = pd.DataFrame(year_data)\n",
    "        csv_file = os.path.join(folder_to_save, f\"{year}.csv\")\n",
    "        neurips_year_df.to_csv(csv_file, index=False)\n",
    "        # print(f\"Saved data for year {year}.\")\n",
    "\n",
    "with ThreadPoolExecutor(max_workers=10) as executor:\n",
    "    executor.map(scrape_year, years)\n"
   ]
  }
 ],
 "metadata": {
  "kernelspec": {
   "display_name": "base",
   "language": "python",
   "name": "python3"
  },
  "language_info": {
   "codemirror_mode": {
    "name": "ipython",
    "version": 3
   },
   "file_extension": ".py",
   "mimetype": "text/x-python",
   "name": "python",
   "nbconvert_exporter": "python",
   "pygments_lexer": "ipython3",
   "version": "3.9.20"
  }
 },
 "nbformat": 4,
 "nbformat_minor": 2
}
