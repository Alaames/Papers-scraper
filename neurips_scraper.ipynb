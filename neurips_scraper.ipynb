{
 "cells": [
  {
   "cell_type": "code",
   "execution_count": 2,
   "metadata": {},
   "outputs": [],
   "source": [
    "import pandas as pd \n",
    "from bs4 import BeautifulSoup\n",
    "import numpy as np \n",
    "import requests\n",
    "import matplotlib.pyplot as plt"
   ]
  },
  {
   "cell_type": "code",
   "execution_count": 31,
   "metadata": {},
   "outputs": [
    {
     "data": {
      "text/plain": [
       "'https://papers.nips.cc/paper_files/paper/2023/file/0001ca33ba34ce0351e4612b744b3936-Paper-Conference.pdf'"
      ]
     },
     "execution_count": 31,
     "metadata": {},
     "output_type": "execute_result"
    }
   ],
   "source": [
    "initial_url = \"https://papers.nips.cc\"\n",
    "url_complement = \"/paper_files/paper/\"\n",
    "conference_url = \"https://papers.nips.cc/paper_files/paper/2023\"\n",
    "content = requests.get(conference_url).text\n",
    "\n",
    "scraper = BeautifulSoup(content, parser=\"lxml\")\n",
    "paper = scraper.find_all(\"li\", class_=\"conference\")[0]\n",
    "paper_tile = paper.a.text\n",
    "paper_authors = paper.i.text\n",
    "paper_link = paper.a.get(\"href\")\n",
    "\n",
    "paper_link = initial_url + paper_link\n",
    "\n",
    "content = requests.get(paper_link).text\n",
    "scraper = BeautifulSoup(content, parser=\"lxml\")\n",
    "\n",
    "abstract = scraper.find_all(\"p\")[3].text\n",
    "pdf_link = scraper.find(\"a\", class_=\"btn btn-primary btn-spacer\").get(\"href\")\n",
    "\n",
    "initial_url + pdf_link"
   ]
  },
  {
   "cell_type": "code",
   "execution_count": 29,
   "metadata": {},
   "outputs": [
    {
     "data": {
      "text/plain": [
       "'https://papers.nips.cc/paper_files/paper/2023/hash/0001ca33ba34ce0351e4612b744b3936-Abstract-Conference.html'"
      ]
     },
     "execution_count": 29,
     "metadata": {},
     "output_type": "execute_result"
    }
   ],
   "source": [
    "paper_link"
   ]
  },
  {
   "cell_type": "code",
   "execution_count": 6,
   "metadata": {},
   "outputs": [
    {
     "ename": "",
     "evalue": "",
     "output_type": "error",
     "traceback": [
      "\u001b[1;31mImpossible d’exécuter le code ; la session a été supprimée. Essayez de redémarrer le noyau."
     ]
    },
    {
     "ename": "",
     "evalue": "",
     "output_type": "error",
     "traceback": [
      "\u001b[1;31mImpossible d’exécuter le code ; la session a été supprimée. Essayez de redémarrer le noyau. \n",
      "\u001b[1;31mPour plus d’informations, consultez Jupyter <a href='command:jupyter.viewOutput'>log</a>."
     ]
    }
   ],
   "source": [
    "initial_url = \"https://papers.nips.cc\"\n",
    "url_complement = \"/paper_files/paper/\"\n",
    "\n",
    "complet_url = initial_url + url_complement\n",
    "\n",
    "years = list(range(1987, 2024))\n",
    "\n",
    "for year in years : \n",
    "    conference_url = complet_url + str(year)\n",
    "    html = requests.get(conference_url)\n",
    "    \n",
    "    scraper = BeautifulSoup(parser = 'lxml')\n",
    "    scraper"
   ]
  }
 ],
 "metadata": {
  "kernelspec": {
   "display_name": "base",
   "language": "python",
   "name": "python3"
  },
  "language_info": {
   "codemirror_mode": {
    "name": "ipython",
    "version": 3
   },
   "file_extension": ".py",
   "mimetype": "text/x-python",
   "name": "python",
   "nbconvert_exporter": "python",
   "pygments_lexer": "ipython3",
   "version": "3.9.18"
  }
 },
 "nbformat": 4,
 "nbformat_minor": 2
}
