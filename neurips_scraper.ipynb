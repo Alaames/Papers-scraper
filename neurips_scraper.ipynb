{
 "cells": [
  {
   "cell_type": "code",
   "execution_count": 2,
   "metadata": {},
   "outputs": [],
   "source": [
    "import pandas as pd \n",
    "from bs4 import BeautifulSoup\n",
    "import numpy as np \n",
    "import requests\n",
    "import matplotlib.pyplot as plt"
   ]
  },
  {
   "cell_type": "markdown",
   "metadata": {},
   "source": [
    "## Test avec un papier"
   ]
  },
  {
   "cell_type": "code",
   "execution_count": 31,
   "metadata": {},
   "outputs": [
    {
     "data": {
      "text/plain": [
       "'https://papers.nips.cc/paper_files/paper/2023/file/0001ca33ba34ce0351e4612b744b3936-Paper-Conference.pdf'"
      ]
     },
     "execution_count": 31,
     "metadata": {},
     "output_type": "execute_result"
    }
   ],
   "source": [
    "initial_url = \"https://papers.nips.cc\"\n",
    "url_complement = \"/paper_files/paper/\"\n",
    "conference_url = \"https://papers.nips.cc/paper_files/paper/2023\"\n",
    "content = requests.get(conference_url).text\n",
    "\n",
    "scraper = BeautifulSoup(content, parser=\"lxml\")\n",
    "paper = scraper.find_all(\"li\", class_=\"conference\")[0]\n",
    "paper_tile = paper.a.text\n",
    "paper_authors = paper.i.text\n",
    "paper_link = paper.a.get(\"href\")\n",
    "\n",
    "paper_link = initial_url + paper_link\n",
    "\n",
    "content = requests.get(paper_link).text\n",
    "scraper = BeautifulSoup(content, parser=\"lxml\")\n",
    "\n",
    "abstract = scraper.find_all(\"p\")[3].text\n",
    "pdf_link = scraper.find(\"a\", class_=\"btn btn-primary btn-spacer\").get(\"href\")\n",
    "\n",
    "initial_url + pdf_link"
   ]
  },
  {
   "cell_type": "markdown",
   "metadata": {},
   "source": [
    "## Test avec une année entière"
   ]
  },
  {
   "cell_type": "code",
   "execution_count": 3,
   "metadata": {},
   "outputs": [],
   "source": [
    "initial_url = \"https://papers.nips.cc\"\n",
    "url_complement = \"/paper_files/paper/\"\n",
    "\n",
    "complet_url = initial_url + url_complement\n",
    "\n",
    "years = list(range(1987, 2024))\n",
    "\n",
    "neurips_papers = {\n",
    "    \"Year\" : [], \n",
    "    \"Title\" : [], \n",
    "    \"Authors\" : [],\n",
    "    \"Number of authors\" : [],\n",
    "    \"Abstract\" : [],\n",
    "    \"Citations\" : [],\n",
    "    \"Paper file\" : []\n",
    "}\n",
    "\n",
    "initial_url = \"https://papers.nips.cc\"\n",
    "url_complement = \"/paper_files/paper/\"\n",
    "conference_url = \"https://papers.nips.cc/paper_files/paper/2023\"\n",
    "content = requests.get(conference_url).text\n",
    "\n",
    "scraper = BeautifulSoup(content, parser=\"lxml\")\n",
    "papers = scraper.find_all(\"li\", class_=\"conference\")\n",
    "for paper in papers: \n",
    "    paper_tile = paper.a.text\n",
    "    paper_authors = paper.i.text\n",
    "    paper_link = paper.a.get(\"href\")\n",
    "\n",
    "    paper_link = initial_url + paper_link\n",
    "\n",
    "    content = requests.get(paper_link).text\n",
    "    scraper = BeautifulSoup(content, parser=\"lxml\")\n",
    "\n",
    "    abstract = scraper.find_all(\"p\")[3].text\n",
    "    pdf_link = initial_url + scraper.find(\"a\", class_=\"btn btn-primary btn-spacer\").get(\"href\")\n",
    "\n",
    "    neurips_papers[\"Year\"].append(2023)\n",
    "    neurips_papers[\"Title\"].append(paper_tile)\n",
    "    neurips_papers[\"Authors\"].append(paper_authors)\n",
    "    neurips_papers[\"Number of authors\"].append(len(paper_authors.split(\",\")))\n",
    "    neurips_papers[\"Abstract\"].append(abstract)\n",
    "    neurips_papers[\"Citations\"].append(0)\n",
    "    neurips_papers[\"Paper file\"].append(pdf_link)\n",
    "\n",
    "neurips_2023_df = pd.DataFrame(neurips_papers)"
   ]
  },
  {
   "cell_type": "markdown",
   "metadata": {},
   "source": [
    "## Test avec toutes les années"
   ]
  },
  {
   "cell_type": "code",
   "execution_count": null,
   "metadata": {},
   "outputs": [],
   "source": [
    "for year in years : \n",
    "    conference_url = complet_url + str(year)\n",
    "    html = requests.get(conference_url)\n",
    "    \n",
    "    scraper = BeautifulSoup(parser = 'lxml')\n",
    "    scraper"
   ]
  }
 ],
 "metadata": {
  "kernelspec": {
   "display_name": "base",
   "language": "python",
   "name": "python3"
  },
  "language_info": {
   "codemirror_mode": {
    "name": "ipython",
    "version": 3
   },
   "file_extension": ".py",
   "mimetype": "text/x-python",
   "name": "python",
   "nbconvert_exporter": "python",
   "pygments_lexer": "ipython3",
   "version": "3.9.18"
  }
 },
 "nbformat": 4,
 "nbformat_minor": 2
}
